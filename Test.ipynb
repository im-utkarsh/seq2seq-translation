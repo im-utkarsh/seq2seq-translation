{
 "cells": [
  {
   "cell_type": "markdown",
   "id": "ff22aa64",
   "metadata": {},
   "source": [
    "dataset is present here : https://www.kaggle.com/aiswaryaramachandran/hindienglish-corpora"
   ]
  },
  {
   "cell_type": "code",
   "execution_count": 1,
   "id": "77cdcc0f",
   "metadata": {},
   "outputs": [],
   "source": [
    "import pandas as pd"
   ]
  },
  {
   "cell_type": "code",
   "execution_count": 2,
   "id": "75a2d0a6",
   "metadata": {},
   "outputs": [],
   "source": [
    "data=pd.read_csv(r'C:\\Users\\Utkarsh\\Projects\\NLP\\DataSet\\Hindi_English_Truncated_Corpus.csv')"
   ]
  },
  {
   "cell_type": "code",
   "execution_count": 3,
   "id": "1235e797",
   "metadata": {
    "scrolled": false
   },
   "outputs": [
    {
     "data": {
      "text/html": [
       "<div>\n",
       "<style scoped>\n",
       "    .dataframe tbody tr th:only-of-type {\n",
       "        vertical-align: middle;\n",
       "    }\n",
       "\n",
       "    .dataframe tbody tr th {\n",
       "        vertical-align: top;\n",
       "    }\n",
       "\n",
       "    .dataframe thead th {\n",
       "        text-align: right;\n",
       "    }\n",
       "</style>\n",
       "<table border=\"1\" class=\"dataframe\">\n",
       "  <thead>\n",
       "    <tr style=\"text-align: right;\">\n",
       "      <th></th>\n",
       "      <th>source</th>\n",
       "      <th>english_sentence</th>\n",
       "      <th>hindi_sentence</th>\n",
       "    </tr>\n",
       "  </thead>\n",
       "  <tbody>\n",
       "    <tr>\n",
       "      <th>0</th>\n",
       "      <td>ted</td>\n",
       "      <td>politicians do not have permission to do what ...</td>\n",
       "      <td>राजनीतिज्ञों के पास जो कार्य करना चाहिए, वह कर...</td>\n",
       "    </tr>\n",
       "    <tr>\n",
       "      <th>1</th>\n",
       "      <td>ted</td>\n",
       "      <td>I'd like to tell you about one such child,</td>\n",
       "      <td>मई आपको ऐसे ही एक बच्चे के बारे में बताना चाहू...</td>\n",
       "    </tr>\n",
       "    <tr>\n",
       "      <th>2</th>\n",
       "      <td>indic2012</td>\n",
       "      <td>This percentage is even greater than the perce...</td>\n",
       "      <td>यह प्रतिशत भारत में हिन्दुओं प्रतिशत से अधिक है।</td>\n",
       "    </tr>\n",
       "    <tr>\n",
       "      <th>3</th>\n",
       "      <td>ted</td>\n",
       "      <td>what we really mean is that they're bad at not...</td>\n",
       "      <td>हम ये नहीं कहना चाहते कि वो ध्यान नहीं दे पाते</td>\n",
       "    </tr>\n",
       "    <tr>\n",
       "      <th>4</th>\n",
       "      <td>indic2012</td>\n",
       "      <td>.The ending portion of these Vedas is called U...</td>\n",
       "      <td>इन्हीं वेदों का अंतिम भाग उपनिषद कहलाता है।</td>\n",
       "    </tr>\n",
       "    <tr>\n",
       "      <th>...</th>\n",
       "      <td>...</td>\n",
       "      <td>...</td>\n",
       "      <td>...</td>\n",
       "    </tr>\n",
       "    <tr>\n",
       "      <th>127602</th>\n",
       "      <td>indic2012</td>\n",
       "      <td>Examples of art deco construction can be found...</td>\n",
       "      <td>आर्ट डेको शैली के निर्माण मैरीन ड्राइव और ओवल ...</td>\n",
       "    </tr>\n",
       "    <tr>\n",
       "      <th>127603</th>\n",
       "      <td>ted</td>\n",
       "      <td>and put it in our cheeks.</td>\n",
       "      <td>और अपने गालों में डाल लेते हैं।</td>\n",
       "    </tr>\n",
       "    <tr>\n",
       "      <th>127604</th>\n",
       "      <td>tides</td>\n",
       "      <td>As for the other derivatives of sulphur , the ...</td>\n",
       "      <td>जहां तक गंधक के अन्य उत्पादों का प्रश्न है , द...</td>\n",
       "    </tr>\n",
       "    <tr>\n",
       "      <th>127605</th>\n",
       "      <td>tides</td>\n",
       "      <td>its complicated functioning is defined thus in...</td>\n",
       "      <td>Zरचना-प्रकिया को उसने एक पहेली में यों बांधा है .</td>\n",
       "    </tr>\n",
       "    <tr>\n",
       "      <th>127606</th>\n",
       "      <td>ted</td>\n",
       "      <td>They've just won four government contracts to ...</td>\n",
       "      <td>हाल ही में उन्हें सरकारी ठेका मिला है करीब सौ ...</td>\n",
       "    </tr>\n",
       "  </tbody>\n",
       "</table>\n",
       "<p>127607 rows × 3 columns</p>\n",
       "</div>"
      ],
      "text/plain": [
       "           source                                   english_sentence  \\\n",
       "0             ted  politicians do not have permission to do what ...   \n",
       "1             ted         I'd like to tell you about one such child,   \n",
       "2       indic2012  This percentage is even greater than the perce...   \n",
       "3             ted  what we really mean is that they're bad at not...   \n",
       "4       indic2012  .The ending portion of these Vedas is called U...   \n",
       "...           ...                                                ...   \n",
       "127602  indic2012  Examples of art deco construction can be found...   \n",
       "127603        ted                          and put it in our cheeks.   \n",
       "127604      tides  As for the other derivatives of sulphur , the ...   \n",
       "127605      tides  its complicated functioning is defined thus in...   \n",
       "127606        ted  They've just won four government contracts to ...   \n",
       "\n",
       "                                           hindi_sentence  \n",
       "0       राजनीतिज्ञों के पास जो कार्य करना चाहिए, वह कर...  \n",
       "1       मई आपको ऐसे ही एक बच्चे के बारे में बताना चाहू...  \n",
       "2        यह प्रतिशत भारत में हिन्दुओं प्रतिशत से अधिक है।  \n",
       "3          हम ये नहीं कहना चाहते कि वो ध्यान नहीं दे पाते  \n",
       "4             इन्हीं वेदों का अंतिम भाग उपनिषद कहलाता है।  \n",
       "...                                                   ...  \n",
       "127602  आर्ट डेको शैली के निर्माण मैरीन ड्राइव और ओवल ...  \n",
       "127603                    और अपने गालों में डाल लेते हैं।  \n",
       "127604  जहां तक गंधक के अन्य उत्पादों का प्रश्न है , द...  \n",
       "127605  Zरचना-प्रकिया को उसने एक पहेली में यों बांधा है .  \n",
       "127606  हाल ही में उन्हें सरकारी ठेका मिला है करीब सौ ...  \n",
       "\n",
       "[127607 rows x 3 columns]"
      ]
     },
     "execution_count": 3,
     "metadata": {},
     "output_type": "execute_result"
    }
   ],
   "source": [
    "data"
   ]
  },
  {
   "cell_type": "code",
   "execution_count": 4,
   "id": "e69ad136",
   "metadata": {},
   "outputs": [],
   "source": [
    "data.dropna(inplace=True)"
   ]
  },
  {
   "cell_type": "code",
   "execution_count": 5,
   "id": "aa98022c",
   "metadata": {},
   "outputs": [],
   "source": [
    "data.drop_duplicates(inplace=True)"
   ]
  },
  {
   "cell_type": "code",
   "execution_count": 6,
   "id": "e520c4a6",
   "metadata": {},
   "outputs": [],
   "source": [
    "data['english_sentence']=data['english_sentence'].apply(lambda x: x.lower())\n",
    "data['hindi_sentence']=data['hindi_sentence'].apply(lambda x: x.lower())"
   ]
  },
  {
   "cell_type": "code",
   "execution_count": 7,
   "id": "76f2b7a2",
   "metadata": {},
   "outputs": [],
   "source": [
    "data['hindi_sentence']=data.hindi_sentence.str.replace(r'|','।',regex=True)"
   ]
  },
  {
   "cell_type": "code",
   "execution_count": 8,
   "id": "729fd468",
   "metadata": {},
   "outputs": [],
   "source": [
    "data['hindi_sentence']=data.hindi_sentence.str.replace(r'|','।',regex=True)\n",
    "data['english_sentence']=data.english_sentence.str.replace(r'[^a-z?.!, ]+','',regex=True)\n",
    "data['hindi_sentence']=data.hindi_sentence.str.replace(r'[^ऀ-ॿa-z?!, ]+','',regex=True)\n",
    "data['hindi_sentence']=data.hindi_sentence.str.replace(r'[०-९]','',regex=True)"
   ]
  },
  {
   "cell_type": "code",
   "execution_count": 9,
   "id": "69e7c735",
   "metadata": {},
   "outputs": [],
   "source": [
    "data['hindi_sentence']=data.hindi_sentence.str.replace(r'(^[a-hj-z])\\1+(?=[ऀ-ॿ])|(?<=[ऀ-ॿ\\s])([a-hj-z])\\2+(?=[ऀ-ॿ\\s])','',regex=True)"
   ]
  },
  {
   "cell_type": "code",
   "execution_count": 10,
   "id": "376ef64e",
   "metadata": {},
   "outputs": [],
   "source": [
    "data['hindi_sentence']=data.hindi_sentence.str.replace(r'^[a-z]{1}(?=[ऀ-ॿ])|(?<=[ऀ-ॿ\\s])[a-z]{1}(?=[ऀ-ॿ])|(?<=[ऀ-ॿ])[a-z]{1}(?=[ऀ-ॿ\\s])','',regex=True)"
   ]
  },
  {
   "cell_type": "code",
   "execution_count": 11,
   "id": "582c9ea5",
   "metadata": {},
   "outputs": [],
   "source": [
    "data=data[data.english_sentence.str.contains(r'[a-z]')]\n",
    "data=data[data.hindi_sentence.str.contains(r'[ऀ-ॿ]')]"
   ]
  },
  {
   "cell_type": "code",
   "execution_count": 12,
   "id": "d1a73056",
   "metadata": {},
   "outputs": [],
   "source": [
    "data['english_sentence']=data.english_sentence.str.replace(r\"([?.!,])\", r\" \\1 \",regex=True)\n",
    "data['hindi_sentence']=data.hindi_sentence.str.replace(r'([?।!,])',r\" \\1 \",regex=True)"
   ]
  },
  {
   "cell_type": "code",
   "execution_count": 13,
   "id": "3627efaa",
   "metadata": {},
   "outputs": [],
   "source": [
    "data=data[~pd.DataFrame({'x':data.source=='tides', 'y':data.hindi_sentence.str.contains(r'[a-z]{2,}')}).all(axis='columns')]"
   ]
  },
  {
   "cell_type": "code",
   "execution_count": 14,
   "id": "0929a7d5",
   "metadata": {},
   "outputs": [],
   "source": [
    "data['hindi_sentence']=data.hindi_sentence.str.replace(r'(?<=[ऀ-ॿ0-9\\s])([a-z]+)(?=[ऀ-ॿ0-9\\s])',r\" \\1 \",regex=True)"
   ]
  },
  {
   "cell_type": "code",
   "execution_count": 15,
   "id": "5d303d2c",
   "metadata": {},
   "outputs": [],
   "source": [
    "data=data.reset_index(drop=True)"
   ]
  },
  {
   "cell_type": "code",
   "execution_count": 16,
   "id": "211b9c60",
   "metadata": {},
   "outputs": [
    {
     "data": {
      "text/html": [
       "<div>\n",
       "<style scoped>\n",
       "    .dataframe tbody tr th:only-of-type {\n",
       "        vertical-align: middle;\n",
       "    }\n",
       "\n",
       "    .dataframe tbody tr th {\n",
       "        vertical-align: top;\n",
       "    }\n",
       "\n",
       "    .dataframe thead th {\n",
       "        text-align: right;\n",
       "    }\n",
       "</style>\n",
       "<table border=\"1\" class=\"dataframe\">\n",
       "  <thead>\n",
       "    <tr style=\"text-align: right;\">\n",
       "      <th></th>\n",
       "      <th>source</th>\n",
       "      <th>english_sentence</th>\n",
       "      <th>hindi_sentence</th>\n",
       "    </tr>\n",
       "  </thead>\n",
       "  <tbody>\n",
       "    <tr>\n",
       "      <th>0</th>\n",
       "      <td>ted</td>\n",
       "      <td>politicians do not have permission to do what ...</td>\n",
       "      <td>राजनीतिज्ञों के पास जो कार्य करना चाहिए ,  वह ...</td>\n",
       "    </tr>\n",
       "    <tr>\n",
       "      <th>1</th>\n",
       "      <td>ted</td>\n",
       "      <td>id like to tell you about one such child ,</td>\n",
       "      <td>मई आपको ऐसे ही एक बच्चे के बारे में बताना चाहू...</td>\n",
       "    </tr>\n",
       "    <tr>\n",
       "      <th>2</th>\n",
       "      <td>indic2012</td>\n",
       "      <td>this percentage is even greater than the perce...</td>\n",
       "      <td>यह प्रतिशत भारत में हिन्दुओं प्रतिशत से अधिक ह...</td>\n",
       "    </tr>\n",
       "    <tr>\n",
       "      <th>3</th>\n",
       "      <td>ted</td>\n",
       "      <td>what we really mean is that theyre bad at not ...</td>\n",
       "      <td>हम ये नहीं कहना चाहते कि वो ध्यान नहीं दे पाते</td>\n",
       "    </tr>\n",
       "    <tr>\n",
       "      <th>4</th>\n",
       "      <td>indic2012</td>\n",
       "      <td>. the ending portion of these vedas is called...</td>\n",
       "      <td>इन्हीं वेदों का अंतिम भाग उपनिषद कहलाता है ।</td>\n",
       "    </tr>\n",
       "    <tr>\n",
       "      <th>...</th>\n",
       "      <td>...</td>\n",
       "      <td>...</td>\n",
       "      <td>...</td>\n",
       "    </tr>\n",
       "    <tr>\n",
       "      <th>124511</th>\n",
       "      <td>indic2012</td>\n",
       "      <td>examples of art deco construction can be found...</td>\n",
       "      <td>आर्ट डेको शैली के निर्माण मैरीन ड्राइव और ओवल ...</td>\n",
       "    </tr>\n",
       "    <tr>\n",
       "      <th>124512</th>\n",
       "      <td>ted</td>\n",
       "      <td>and put it in our cheeks .</td>\n",
       "      <td>और अपने गालों में डाल लेते हैं ।</td>\n",
       "    </tr>\n",
       "    <tr>\n",
       "      <th>124513</th>\n",
       "      <td>tides</td>\n",
       "      <td>as for the other derivatives of sulphur  ,  th...</td>\n",
       "      <td>जहां तक गंधक के अन्य उत्पादों का प्रश्न है  , ...</td>\n",
       "    </tr>\n",
       "    <tr>\n",
       "      <th>124514</th>\n",
       "      <td>tides</td>\n",
       "      <td>its complicated functioning is defined thus in...</td>\n",
       "      <td>रचनाप्रकिया को उसने एक पहेली में यों बांधा है</td>\n",
       "    </tr>\n",
       "    <tr>\n",
       "      <th>124515</th>\n",
       "      <td>ted</td>\n",
       "      <td>theyve just won four government contracts to b...</td>\n",
       "      <td>हाल ही में उन्हें सरकारी ठेका मिला है करीब सौ ...</td>\n",
       "    </tr>\n",
       "  </tbody>\n",
       "</table>\n",
       "<p>124516 rows × 3 columns</p>\n",
       "</div>"
      ],
      "text/plain": [
       "           source                                   english_sentence  \\\n",
       "0             ted  politicians do not have permission to do what ...   \n",
       "1             ted        id like to tell you about one such child ,    \n",
       "2       indic2012  this percentage is even greater than the perce...   \n",
       "3             ted  what we really mean is that theyre bad at not ...   \n",
       "4       indic2012   . the ending portion of these vedas is called...   \n",
       "...           ...                                                ...   \n",
       "124511  indic2012  examples of art deco construction can be found...   \n",
       "124512        ted                        and put it in our cheeks .    \n",
       "124513      tides  as for the other derivatives of sulphur  ,  th...   \n",
       "124514      tides  its complicated functioning is defined thus in...   \n",
       "124515        ted  theyve just won four government contracts to b...   \n",
       "\n",
       "                                           hindi_sentence  \n",
       "0       राजनीतिज्ञों के पास जो कार्य करना चाहिए ,  वह ...  \n",
       "1       मई आपको ऐसे ही एक बच्चे के बारे में बताना चाहू...  \n",
       "2       यह प्रतिशत भारत में हिन्दुओं प्रतिशत से अधिक ह...  \n",
       "3          हम ये नहीं कहना चाहते कि वो ध्यान नहीं दे पाते  \n",
       "4           इन्हीं वेदों का अंतिम भाग उपनिषद कहलाता है ।   \n",
       "...                                                   ...  \n",
       "124511  आर्ट डेको शैली के निर्माण मैरीन ड्राइव और ओवल ...  \n",
       "124512                  और अपने गालों में डाल लेते हैं ।   \n",
       "124513  जहां तक गंधक के अन्य उत्पादों का प्रश्न है  , ...  \n",
       "124514     रचनाप्रकिया को उसने एक पहेली में यों बांधा है   \n",
       "124515  हाल ही में उन्हें सरकारी ठेका मिला है करीब सौ ...  \n",
       "\n",
       "[124516 rows x 3 columns]"
      ]
     },
     "execution_count": 16,
     "metadata": {},
     "output_type": "execute_result"
    }
   ],
   "source": [
    "data"
   ]
  },
  {
   "cell_type": "code",
   "execution_count": 17,
   "id": "6c074e8a",
   "metadata": {},
   "outputs": [],
   "source": [
    "l=data[pd.DataFrame({'x':data.source=='tides', 'y':data.hindi_sentence.str.contains(r'[a-z]')}).all(axis='columns')].index\n",
    "data.iloc[l,2]=data.iloc[l].hindi_sentence.str.replace(r'[a-z]',r'',regex=True)"
   ]
  },
  {
   "cell_type": "code",
   "execution_count": 18,
   "id": "0cd17a1d",
   "metadata": {},
   "outputs": [],
   "source": [
    "data['english_sentence']=data['english_sentence'].apply(lambda x: x.strip())\n",
    "data['hindi_sentence']=data['hindi_sentence'].apply(lambda x: x.strip())\n",
    "data['english_sentence'] = data['english_sentence'].apply(lambda x : '[START] '+ x + ' [END]')\n",
    "data['hindi_sentence'] = data['hindi_sentence'].apply(lambda x : '[START] '+ x + ' [END]')"
   ]
  },
  {
   "cell_type": "code",
   "execution_count": 19,
   "id": "5c66458a",
   "metadata": {},
   "outputs": [],
   "source": [
    "data['english_sentence']=data.english_sentence.str.replace(r' +',r' ',regex=True)\n",
    "data['hindi_sentence']=data.hindi_sentence.str.replace(r' +',r' ',regex=True)"
   ]
  },
  {
   "cell_type": "code",
   "execution_count": 20,
   "id": "f343db77",
   "metadata": {},
   "outputs": [
    {
     "data": {
      "text/html": [
       "<div>\n",
       "<style scoped>\n",
       "    .dataframe tbody tr th:only-of-type {\n",
       "        vertical-align: middle;\n",
       "    }\n",
       "\n",
       "    .dataframe tbody tr th {\n",
       "        vertical-align: top;\n",
       "    }\n",
       "\n",
       "    .dataframe thead th {\n",
       "        text-align: right;\n",
       "    }\n",
       "</style>\n",
       "<table border=\"1\" class=\"dataframe\">\n",
       "  <thead>\n",
       "    <tr style=\"text-align: right;\">\n",
       "      <th></th>\n",
       "      <th>source</th>\n",
       "      <th>english_sentence</th>\n",
       "      <th>hindi_sentence</th>\n",
       "    </tr>\n",
       "  </thead>\n",
       "  <tbody>\n",
       "    <tr>\n",
       "      <th>0</th>\n",
       "      <td>ted</td>\n",
       "      <td>[START] politicians do not have permission to ...</td>\n",
       "      <td>[START] राजनीतिज्ञों के पास जो कार्य करना चाहि...</td>\n",
       "    </tr>\n",
       "    <tr>\n",
       "      <th>1</th>\n",
       "      <td>ted</td>\n",
       "      <td>[START] id like to tell you about one such chi...</td>\n",
       "      <td>[START] मई आपको ऐसे ही एक बच्चे के बारे में बत...</td>\n",
       "    </tr>\n",
       "    <tr>\n",
       "      <th>2</th>\n",
       "      <td>indic2012</td>\n",
       "      <td>[START] this percentage is even greater than t...</td>\n",
       "      <td>[START] यह प्रतिशत भारत में हिन्दुओं प्रतिशत स...</td>\n",
       "    </tr>\n",
       "    <tr>\n",
       "      <th>3</th>\n",
       "      <td>ted</td>\n",
       "      <td>[START] what we really mean is that theyre bad...</td>\n",
       "      <td>[START] हम ये नहीं कहना चाहते कि वो ध्यान नहीं...</td>\n",
       "    </tr>\n",
       "    <tr>\n",
       "      <th>4</th>\n",
       "      <td>indic2012</td>\n",
       "      <td>[START] . the ending portion of these vedas is...</td>\n",
       "      <td>[START] इन्हीं वेदों का अंतिम भाग उपनिषद कहलात...</td>\n",
       "    </tr>\n",
       "    <tr>\n",
       "      <th>...</th>\n",
       "      <td>...</td>\n",
       "      <td>...</td>\n",
       "      <td>...</td>\n",
       "    </tr>\n",
       "    <tr>\n",
       "      <th>124511</th>\n",
       "      <td>indic2012</td>\n",
       "      <td>[START] examples of art deco construction can ...</td>\n",
       "      <td>[START] आर्ट डेको शैली के निर्माण मैरीन ड्राइव...</td>\n",
       "    </tr>\n",
       "    <tr>\n",
       "      <th>124512</th>\n",
       "      <td>ted</td>\n",
       "      <td>[START] and put it in our cheeks . [END]</td>\n",
       "      <td>[START] और अपने गालों में डाल लेते हैं । [END]</td>\n",
       "    </tr>\n",
       "    <tr>\n",
       "      <th>124513</th>\n",
       "      <td>tides</td>\n",
       "      <td>[START] as for the other derivatives of sulphu...</td>\n",
       "      <td>[START] जहां तक गंधक के अन्य उत्पादों का प्रश्...</td>\n",
       "    </tr>\n",
       "    <tr>\n",
       "      <th>124514</th>\n",
       "      <td>tides</td>\n",
       "      <td>[START] its complicated functioning is defined...</td>\n",
       "      <td>[START] रचनाप्रकिया को उसने एक पहेली में यों ब...</td>\n",
       "    </tr>\n",
       "    <tr>\n",
       "      <th>124515</th>\n",
       "      <td>ted</td>\n",
       "      <td>[START] theyve just won four government contra...</td>\n",
       "      <td>[START] हाल ही में उन्हें सरकारी ठेका मिला है ...</td>\n",
       "    </tr>\n",
       "  </tbody>\n",
       "</table>\n",
       "<p>124516 rows × 3 columns</p>\n",
       "</div>"
      ],
      "text/plain": [
       "           source                                   english_sentence  \\\n",
       "0             ted  [START] politicians do not have permission to ...   \n",
       "1             ted  [START] id like to tell you about one such chi...   \n",
       "2       indic2012  [START] this percentage is even greater than t...   \n",
       "3             ted  [START] what we really mean is that theyre bad...   \n",
       "4       indic2012  [START] . the ending portion of these vedas is...   \n",
       "...           ...                                                ...   \n",
       "124511  indic2012  [START] examples of art deco construction can ...   \n",
       "124512        ted           [START] and put it in our cheeks . [END]   \n",
       "124513      tides  [START] as for the other derivatives of sulphu...   \n",
       "124514      tides  [START] its complicated functioning is defined...   \n",
       "124515        ted  [START] theyve just won four government contra...   \n",
       "\n",
       "                                           hindi_sentence  \n",
       "0       [START] राजनीतिज्ञों के पास जो कार्य करना चाहि...  \n",
       "1       [START] मई आपको ऐसे ही एक बच्चे के बारे में बत...  \n",
       "2       [START] यह प्रतिशत भारत में हिन्दुओं प्रतिशत स...  \n",
       "3       [START] हम ये नहीं कहना चाहते कि वो ध्यान नहीं...  \n",
       "4       [START] इन्हीं वेदों का अंतिम भाग उपनिषद कहलात...  \n",
       "...                                                   ...  \n",
       "124511  [START] आर्ट डेको शैली के निर्माण मैरीन ड्राइव...  \n",
       "124512     [START] और अपने गालों में डाल लेते हैं । [END]  \n",
       "124513  [START] जहां तक गंधक के अन्य उत्पादों का प्रश्...  \n",
       "124514  [START] रचनाप्रकिया को उसने एक पहेली में यों ब...  \n",
       "124515  [START] हाल ही में उन्हें सरकारी ठेका मिला है ...  \n",
       "\n",
       "[124516 rows x 3 columns]"
      ]
     },
     "execution_count": 20,
     "metadata": {},
     "output_type": "execute_result"
    }
   ],
   "source": [
    "data"
   ]
  },
  {
   "cell_type": "code",
   "execution_count": 21,
   "id": "0d921a9f",
   "metadata": {},
   "outputs": [],
   "source": [
    "data['length_en_sentence']=data['english_sentence'].apply(lambda x:len(x.split(\" \")))\n",
    "data['length_hi_sentence']=data['hindi_sentence'].apply(lambda x:len(x.split(\" \")))"
   ]
  },
  {
   "cell_type": "code",
   "execution_count": 22,
   "id": "79aefd54",
   "metadata": {},
   "outputs": [],
   "source": [
    "data = data[data.source=='ted']"
   ]
  },
  {
   "cell_type": "code",
   "execution_count": 23,
   "id": "44acf503",
   "metadata": {},
   "outputs": [],
   "source": [
    "maxlen_en=15\n",
    "maxlen_hi=15\n",
    "data=data[data['length_en_sentence']<=maxlen_en]\n",
    "data=data[data['length_hi_sentence']<=maxlen_hi]"
   ]
  },
  {
   "cell_type": "code",
   "execution_count": 24,
   "id": "9db15d23",
   "metadata": {},
   "outputs": [
    {
     "data": {
      "text/plain": [
       "(32856, 5)"
      ]
     },
     "execution_count": 24,
     "metadata": {},
     "output_type": "execute_result"
    }
   ],
   "source": [
    "data.shape"
   ]
  },
  {
   "cell_type": "code",
   "execution_count": null,
   "id": "42d34d35",
   "metadata": {},
   "outputs": [],
   "source": []
  },
  {
   "cell_type": "code",
   "execution_count": null,
   "id": "8f9c53b9",
   "metadata": {},
   "outputs": [],
   "source": []
  },
  {
   "cell_type": "markdown",
   "id": "1d7cf34c",
   "metadata": {},
   "source": [
    "# TF MODEL"
   ]
  },
  {
   "cell_type": "code",
   "execution_count": 25,
   "id": "77f157e5",
   "metadata": {},
   "outputs": [],
   "source": [
    "inp, targ = data.english_sentence, data.hindi_sentence\n",
    "\n",
    "en_vocab_size = 10000\n",
    "hi_vocab_size = 10000\n",
    "\n",
    "embedding_dim = 128\n",
    "units = 360\n",
    "\n",
    "train_size = inp.shape[0]\n",
    "train_split = int(train_size*0.8)\n",
    "test_split = train_size-train_split\n",
    "\n",
    "BATCH_SIZE = 64"
   ]
  },
  {
   "cell_type": "code",
   "execution_count": null,
   "id": "cb6c1e48",
   "metadata": {},
   "outputs": [],
   "source": []
  },
  {
   "cell_type": "code",
   "execution_count": null,
   "id": "35eb24bd",
   "metadata": {},
   "outputs": [],
   "source": []
  },
  {
   "cell_type": "code",
   "execution_count": null,
   "id": "de97d1a3",
   "metadata": {},
   "outputs": [],
   "source": []
  },
  {
   "cell_type": "code",
   "execution_count": null,
   "id": "bf517d92",
   "metadata": {},
   "outputs": [],
   "source": []
  },
  {
   "cell_type": "code",
   "execution_count": 26,
   "id": "0c6ca576",
   "metadata": {},
   "outputs": [],
   "source": [
    "import tensorflow as tf\n",
    "import numpy as np"
   ]
  },
  {
   "cell_type": "code",
   "execution_count": 27,
   "id": "df11e882",
   "metadata": {},
   "outputs": [],
   "source": [
    "en_tok=tf.keras.preprocessing.text.Tokenizer(en_vocab_size,'',oov_token='[UNK]')\n",
    "hi_tok=tf.keras.preprocessing.text.Tokenizer(hi_vocab_size,'',oov_token='[UNK]',)"
   ]
  },
  {
   "cell_type": "code",
   "execution_count": 28,
   "id": "dbd33ced",
   "metadata": {},
   "outputs": [],
   "source": [
    "en_tok.fit_on_texts(inp)\n",
    "hi_tok.fit_on_texts(targ)"
   ]
  },
  {
   "cell_type": "code",
   "execution_count": 29,
   "id": "0bef7634",
   "metadata": {},
   "outputs": [],
   "source": [
    "en_seq = en_tok.texts_to_sequences(inp)\n",
    "hi_seq = hi_tok.texts_to_sequences(targ)"
   ]
  },
  {
   "cell_type": "code",
   "execution_count": 30,
   "id": "1722d3ae",
   "metadata": {},
   "outputs": [],
   "source": [
    "en_seq = tf.keras.preprocessing.sequence.pad_sequences(en_seq, maxlen=maxlen_en)\n",
    "hi_seq = tf.keras.preprocessing.sequence.pad_sequences(hi_seq, maxlen=maxlen_hi, padding='post')"
   ]
  },
  {
   "cell_type": "code",
   "execution_count": 31,
   "id": "411452c4",
   "metadata": {},
   "outputs": [],
   "source": [
    "idx = np.random.permutation(train_size)\n",
    "train_idx, test_idx = idx[:train_split], idx[train_split:]\n",
    "X_train, X_test = en_seq[train_idx,:], en_seq[test_idx,:]\n",
    "y_train, y_test = hi_seq[train_idx,:], hi_seq[test_idx,:]"
   ]
  },
  {
   "cell_type": "code",
   "execution_count": 32,
   "id": "e832f0a9",
   "metadata": {},
   "outputs": [],
   "source": [
    "def generate_batch(X, y, BATCH_SIZE):\n",
    "    ''' Generate a batch of data '''\n",
    "    while True:\n",
    "        for j in range(0, len(X), BATCH_SIZE):\n",
    "            yield([X[j:j+BATCH_SIZE], y[j:j+BATCH_SIZE]], tf.one_hot(y[j:j+BATCH_SIZE],hi_vocab_size))"
   ]
  },
  {
   "cell_type": "code",
   "execution_count": 33,
   "id": "d04cb717",
   "metadata": {},
   "outputs": [],
   "source": [
    "encoder_inputs = tf.keras.layers.Input(shape=(None,))\n",
    "enc_embed=tf.keras.layers.Embedding(en_vocab_size,embedding_dim, mask_zero=True)(encoder_inputs)\n",
    "\n",
    "enc_bilstm1=tf.keras.layers.Bidirectional(tf.keras.layers.LSTM(units, return_sequences=True))\n",
    "encoder_outputs1 = enc_bilstm1(enc_embed)\n",
    "\n",
    "enc_bilstm2=tf.keras.layers.Bidirectional(tf.keras.layers.LSTM(units, return_state=True))\n",
    "encoder_outputs2, fstate_h, fstate_c, bstate_h, bstate_c = enc_bilstm2(encoder_outputs1)\n",
    "\n",
    "state_h = tf.keras.layers.Concatenate()([fstate_h,bstate_h])\n",
    "state_c = tf.keras.layers.Concatenate()([fstate_c,bstate_c])\n",
    "\n",
    "enc_states = [state_h, state_c]"
   ]
  },
  {
   "cell_type": "code",
   "execution_count": 34,
   "id": "a10894f5",
   "metadata": {},
   "outputs": [],
   "source": [
    "decoder_inputs = tf.keras.layers.Input(shape=(None,))\n",
    "dec_emb_layer = tf.keras.layers.Embedding(hi_vocab_size, embedding_dim, mask_zero=True)\n",
    "dec_embed = dec_emb_layer(decoder_inputs)\n",
    "\n",
    "dec_lstm = tf.keras.layers.LSTM(units*2, return_sequences=True, return_state=True)\n",
    "decoder_outputs, _, _ = dec_lstm(dec_embed,initial_state=enc_states)\n",
    "dec_dense = tf.keras.layers.Dense(hi_vocab_size, activation='softmax')\n",
    "decoder_outputs = dec_dense(decoder_outputs)"
   ]
  },
  {
   "cell_type": "code",
   "execution_count": 35,
   "id": "b7a6aff2",
   "metadata": {},
   "outputs": [],
   "source": [
    "model = tf.keras.models.Model([encoder_inputs, decoder_inputs], decoder_outputs)\n",
    "model.compile(optimizer='adam', loss='categorical_crossentropy', metrics=['accuracy'])"
   ]
  },
  {
   "cell_type": "code",
   "execution_count": 36,
   "id": "b13330f2",
   "metadata": {},
   "outputs": [
    {
     "name": "stdout",
     "output_type": "stream",
     "text": [
      "Model: \"model\"\n",
      "__________________________________________________________________________________________________\n",
      "Layer (type)                    Output Shape         Param #     Connected to                     \n",
      "==================================================================================================\n",
      "input_1 (InputLayer)            [(None, None)]       0                                            \n",
      "__________________________________________________________________________________________________\n",
      "embedding (Embedding)           (None, None, 128)    1280000     input_1[0][0]                    \n",
      "__________________________________________________________________________________________________\n",
      "input_2 (InputLayer)            [(None, None)]       0                                            \n",
      "__________________________________________________________________________________________________\n",
      "lstm (LSTM)                     (None, None, 360)    704160      embedding[0][0]                  \n",
      "__________________________________________________________________________________________________\n",
      "embedding_1 (Embedding)         (None, None, 128)    1280000     input_2[0][0]                    \n",
      "__________________________________________________________________________________________________\n",
      "lstm_1 (LSTM)                   [(None, 360), (None, 1038240     lstm[0][0]                       \n",
      "__________________________________________________________________________________________________\n",
      "lstm_2 (LSTM)                   [(None, None, 360),  704160      embedding_1[0][0]                \n",
      "                                                                 lstm_1[0][1]                     \n",
      "                                                                 lstm_1[0][2]                     \n",
      "__________________________________________________________________________________________________\n",
      "dense (Dense)                   (None, None, 10000)  3610000     lstm_2[0][0]                     \n",
      "==================================================================================================\n",
      "Total params: 8,616,560\n",
      "Trainable params: 8,616,560\n",
      "Non-trainable params: 0\n",
      "__________________________________________________________________________________________________\n"
     ]
    }
   ],
   "source": [
    "model.summary()"
   ]
  },
  {
   "cell_type": "code",
   "execution_count": 37,
   "id": "d42df717",
   "metadata": {},
   "outputs": [
    {
     "name": "stdout",
     "output_type": "stream",
     "text": [
      "Epoch 1/30\n",
      "410/410 [==============================] - 132s 283ms/step - loss: 3.6568 - accuracy: 0.2613 - val_loss: 1.8345 - val_accuracy: 0.6247\n",
      "Epoch 2/30\n",
      "410/410 [==============================] - 113s 276ms/step - loss: 1.5722 - accuracy: 0.6847 - val_loss: 1.0785 - val_accuracy: 0.8025\n",
      "Epoch 3/30\n",
      "410/410 [==============================] - 112s 272ms/step - loss: 0.9402 - accuracy: 0.8245 - val_loss: 0.7557 - val_accuracy: 0.8660\n",
      "Epoch 4/30\n",
      "410/410 [==============================] - 108s 263ms/step - loss: 0.6378 - accuracy: 0.8814 - val_loss: 0.5650 - val_accuracy: 0.9029\n",
      "Epoch 5/30\n",
      "410/410 [==============================] - 110s 267ms/step - loss: 0.4462 - accuracy: 0.9149 - val_loss: 0.4341 - val_accuracy: 0.9270\n",
      "Epoch 6/30\n",
      "410/410 [==============================] - 108s 263ms/step - loss: 0.3051 - accuracy: 0.9415 - val_loss: 0.3397 - val_accuracy: 0.9451\n",
      "Epoch 7/30\n",
      "410/410 [==============================] - 110s 268ms/step - loss: 0.2034 - accuracy: 0.9610 - val_loss: 0.2748 - val_accuracy: 0.9558\n",
      "Epoch 8/30\n",
      "410/410 [==============================] - 110s 269ms/step - loss: 0.1311 - accuracy: 0.9752 - val_loss: 0.2302 - val_accuracy: 0.9626\n",
      "Epoch 9/30\n",
      "410/410 [==============================] - 107s 261ms/step - loss: 0.0803 - accuracy: 0.9868 - val_loss: 0.2011 - val_accuracy: 0.9669\n",
      "Epoch 10/30\n",
      "410/410 [==============================] - 109s 266ms/step - loss: 0.0459 - accuracy: 0.9945 - val_loss: 0.1821 - val_accuracy: 0.9697\n",
      "Epoch 11/30\n",
      "410/410 [==============================] - 108s 265ms/step - loss: 0.0250 - accuracy: 0.9982 - val_loss: 0.1641 - val_accuracy: 0.9727\n",
      "Epoch 12/30\n",
      "410/410 [==============================] - 108s 264ms/step - loss: 0.0132 - accuracy: 0.9996 - val_loss: 0.1480 - val_accuracy: 0.9748\n",
      "Epoch 13/30\n",
      "410/410 [==============================] - 108s 265ms/step - loss: 0.0071 - accuracy: 0.9999 - val_loss: 0.1365 - val_accuracy: 0.9763\n",
      "Epoch 14/30\n",
      "410/410 [==============================] - 114s 278ms/step - loss: 0.0042 - accuracy: 1.0000 - val_loss: 0.1289 - val_accuracy: 0.9778\n",
      "Epoch 15/30\n",
      "410/410 [==============================] - 106s 257ms/step - loss: 0.0027 - accuracy: 1.0000 - val_loss: 0.1227 - val_accuracy: 0.9787\n",
      "Epoch 16/30\n",
      "410/410 [==============================] - 110s 267ms/step - loss: 0.0018 - accuracy: 1.0000 - val_loss: 0.1179 - val_accuracy: 0.9795\n",
      "Epoch 17/30\n",
      "410/410 [==============================] - 106s 259ms/step - loss: 0.0014 - accuracy: 1.0000 - val_loss: 0.1138 - val_accuracy: 0.9803\n",
      "Epoch 18/30\n",
      "410/410 [==============================] - 112s 273ms/step - loss: 0.0010 - accuracy: 1.0000 - val_loss: 0.1103 - val_accuracy: 0.9809\n",
      "Epoch 19/30\n",
      "410/410 [==============================] - 97s 236ms/step - loss: 7.9204e-04 - accuracy: 1.0000 - val_loss: 0.1072 - val_accuracy: 0.9814\n",
      "Epoch 20/30\n",
      "410/410 [==============================] - 92s 223ms/step - loss: 6.2103e-04 - accuracy: 1.0000 - val_loss: 0.1044 - val_accuracy: 0.9821\n",
      "Epoch 21/30\n",
      "410/410 [==============================] - 87s 212ms/step - loss: 4.9079e-04 - accuracy: 1.0000 - val_loss: 0.1018 - val_accuracy: 0.9826\n",
      "Epoch 22/30\n",
      "410/410 [==============================] - 88s 214ms/step - loss: 3.9209e-04 - accuracy: 1.0000 - val_loss: 0.0994 - val_accuracy: 0.9830\n",
      "Epoch 23/30\n",
      "410/410 [==============================] - 88s 215ms/step - loss: 3.1533e-04 - accuracy: 1.0000 - val_loss: 0.0971 - val_accuracy: 0.9833\n",
      "Epoch 24/30\n",
      "410/410 [==============================] - 88s 214ms/step - loss: 2.5478e-04 - accuracy: 1.0000 - val_loss: 0.0950 - val_accuracy: 0.9836\n",
      "Epoch 25/30\n",
      "410/410 [==============================] - 88s 215ms/step - loss: 2.0802e-04 - accuracy: 1.0000 - val_loss: 0.0930 - val_accuracy: 0.9840\n",
      "Epoch 26/30\n",
      "410/410 [==============================] - 87s 213ms/step - loss: 1.6967e-04 - accuracy: 1.0000 - val_loss: 0.0911 - val_accuracy: 0.9843\n",
      "Epoch 27/30\n",
      "410/410 [==============================] - 89s 216ms/step - loss: 1.3911e-04 - accuracy: 1.0000 - val_loss: 0.0893 - val_accuracy: 0.9846\n",
      "Epoch 28/30\n",
      "410/410 [==============================] - 92s 224ms/step - loss: 1.1503e-04 - accuracy: 1.0000 - val_loss: 0.0876 - val_accuracy: 0.9850\n",
      "Epoch 29/30\n",
      "410/410 [==============================] - 91s 222ms/step - loss: 9.5451e-05 - accuracy: 1.0000 - val_loss: 0.0860 - val_accuracy: 0.9852\n",
      "Epoch 30/30\n",
      "410/410 [==============================] - 90s 219ms/step - loss: 7.9445e-05 - accuracy: 1.0000 - val_loss: 0.0845 - val_accuracy: 0.9855\n"
     ]
    }
   ],
   "source": [
    "history = model.fit(generate_batch(X_train, y_train, BATCH_SIZE),\n",
    "          steps_per_epoch = train_split//BATCH_SIZE,\n",
    "          epochs=30,\n",
    "          validation_data = generate_batch(X_test, y_test, 32),\n",
    "          validation_steps = test_split//32)"
   ]
  },
  {
   "cell_type": "code",
   "execution_count": 40,
   "id": "c78b163a",
   "metadata": {},
   "outputs": [],
   "source": [
    "# # summarize history for accuracy\n",
    "# plt.plot(history.history['accuracy'])\n",
    "# plt.plot(history.history['val_accuracy'])\n",
    "# plt.title('model accuracy')\n",
    "# plt.ylabel('accuracy')\n",
    "# plt.xlabel('epoch')\n",
    "# plt.legend(['train', 'test'], loc='upper left')\n",
    "# plt.show()\n",
    "# # summarize history for loss\n",
    "# plt.plot(history.history['loss'])\n",
    "# plt.plot(history.history['val_loss'])\n",
    "# plt.title('model loss')\n",
    "# plt.ylabel('loss')\n",
    "# plt.xlabel('epoch')\n",
    "# plt.legend(['train', 'test'], loc='upper left')\n",
    "# plt.show()"
   ]
  },
  {
   "cell_type": "code",
   "execution_count": null,
   "id": "eaab3967",
   "metadata": {},
   "outputs": [],
   "source": [
    "model.save('Models/2')"
   ]
  },
  {
   "cell_type": "code",
   "execution_count": 33,
   "id": "11bee30b",
   "metadata": {},
   "outputs": [],
   "source": [
    "# model=tf.keras.models.load_model('Models/1')"
   ]
  },
  {
   "cell_type": "code",
   "execution_count": 35,
   "id": "ebd3db4a",
   "metadata": {},
   "outputs": [
    {
     "name": "stdout",
     "output_type": "stream",
     "text": [
      "Model: \"model\"\n",
      "__________________________________________________________________________________________________\n",
      "Layer (type)                    Output Shape         Param #     Connected to                     \n",
      "==================================================================================================\n",
      "input_1 (InputLayer)            [(None, None)]       0                                            \n",
      "__________________________________________________________________________________________________\n",
      "embedding (Embedding)           (None, None, 256)    2560000     input_1[0][0]                    \n",
      "__________________________________________________________________________________________________\n",
      "bidirectional (Bidirectional)   (None, None, 1024)   3149824     embedding[0][0]                  \n",
      "__________________________________________________________________________________________________\n",
      "bidirectional_1 (Bidirectional) (None, None, 1024)   6295552     bidirectional[0][0]              \n",
      "__________________________________________________________________________________________________\n",
      "input_2 (InputLayer)            [(None, None)]       0                                            \n",
      "__________________________________________________________________________________________________\n",
      "bidirectional_2 (Bidirectional) [(None, 1024), (None 6295552     bidirectional_1[0][0]            \n",
      "__________________________________________________________________________________________________\n",
      "embedding_1 (Embedding)         (None, None, 256)    2560000     input_2[0][0]                    \n",
      "__________________________________________________________________________________________________\n",
      "concatenate (Concatenate)       (None, 1024)         0           bidirectional_2[0][1]            \n",
      "                                                                 bidirectional_2[0][3]            \n",
      "__________________________________________________________________________________________________\n",
      "concatenate_1 (Concatenate)     (None, 1024)         0           bidirectional_2[0][2]            \n",
      "                                                                 bidirectional_2[0][4]            \n",
      "__________________________________________________________________________________________________\n",
      "lstm_3 (LSTM)                   [(None, None, 1024), 5246976     embedding_1[0][0]                \n",
      "                                                                 concatenate[0][0]                \n",
      "                                                                 concatenate_1[0][0]              \n",
      "__________________________________________________________________________________________________\n",
      "dense (Dense)                   (None, None, 10000)  10250000    lstm_3[0][0]                     \n",
      "==================================================================================================\n",
      "Total params: 36,357,904\n",
      "Trainable params: 36,357,904\n",
      "Non-trainable params: 0\n",
      "__________________________________________________________________________________________________\n"
     ]
    }
   ],
   "source": [
    "# model.summary()"
   ]
  },
  {
   "cell_type": "code",
   "execution_count": 38,
   "id": "d315a643",
   "metadata": {},
   "outputs": [],
   "source": [
    "encoder_model = tf.keras.models.Model(encoder_inputs, enc_states)\n",
    "\n",
    "\n",
    "decoder_state_input_h = tf.keras.layers.Input(shape=(2*units,))\n",
    "decoder_state_input_c = tf.keras.layers.Input(shape=(2*units,))\n",
    "decoder_states_inputs = [decoder_state_input_h, decoder_state_input_c]\n",
    "\n",
    "\n",
    "dec_embed2= dec_emb_layer(decoder_inputs)\n",
    "\n",
    "decoder_outputs2, state_h2, state_c2 = dec_lstm(dec_embed2, initial_state=decoder_states_inputs)\n",
    "\n",
    "decoder_states2 = [state_h2, state_c2]\n",
    "\n",
    "decoder_outputs2 = dec_dense(decoder_outputs2)\n",
    "\n",
    "decoder_model = tf.keras.models.Model(\n",
    "    [decoder_inputs] + decoder_states_inputs,\n",
    "    [decoder_outputs2] + decoder_states2)"
   ]
  },
  {
   "cell_type": "code",
   "execution_count": 39,
   "id": "dc483986",
   "metadata": {},
   "outputs": [],
   "source": [
    "def decode_sequence(input_seq):\n",
    "    states_value = encoder_model.predict(input_seq)\n",
    "    \n",
    "    target_seq = np.array(en_tok.texts_to_sequences(['[START]']),dtype='float')\n",
    "    \n",
    "    run = True\n",
    "    decoded_seq = []\n",
    "    while run:\n",
    "        output_tokens, h, c = decoder_model.predict([target_seq] + states_value)\n",
    "        sampled_token_index = np.argmax(output_tokens[0, -1, :])\n",
    "        decoded_seq.append(sampled_token_index)\n",
    "        if (sampled_token_index == 3 or len(decoded_seq) > 50):\n",
    "            run = False\n",
    "\n",
    "        target_seq=np.array(sampled_token_index,dtype='float').reshape(1,1)\n",
    "        states_value = [h, c]\n",
    "        \n",
    "    return decoded_seq"
   ]
  },
  {
   "cell_type": "code",
   "execution_count": 40,
   "id": "5a1f32c0",
   "metadata": {},
   "outputs": [],
   "source": [
    "decoded_seq = decode_sequence(en_seq[0:1])"
   ]
  },
  {
   "cell_type": "code",
   "execution_count": null,
   "id": "6f4d4788",
   "metadata": {},
   "outputs": [],
   "source": [
    "en_tok.sequences_to_texts(en_seq[0:1])"
   ]
  },
  {
   "cell_type": "code",
   "execution_count": null,
   "id": "57fbaa89",
   "metadata": {},
   "outputs": [],
   "source": [
    "hi_tok.sequences_to_texts(hi_seq[0:1])"
   ]
  },
  {
   "cell_type": "code",
   "execution_count": null,
   "id": "ad0651c8",
   "metadata": {},
   "outputs": [],
   "source": [
    "hi_tok.sequences_to_texts([decoded_seq])"
   ]
  },
  {
   "cell_type": "code",
   "execution_count": null,
   "id": "aeba2038",
   "metadata": {},
   "outputs": [],
   "source": []
  },
  {
   "cell_type": "code",
   "execution_count": null,
   "id": "58dfffea",
   "metadata": {},
   "outputs": [],
   "source": []
  },
  {
   "cell_type": "code",
   "execution_count": null,
   "id": "2b79c014",
   "metadata": {},
   "outputs": [],
   "source": []
  },
  {
   "cell_type": "code",
   "execution_count": null,
   "id": "54e0af9e",
   "metadata": {},
   "outputs": [],
   "source": []
  },
  {
   "cell_type": "code",
   "execution_count": null,
   "id": "622282b7",
   "metadata": {},
   "outputs": [],
   "source": []
  },
  {
   "cell_type": "code",
   "execution_count": null,
   "id": "699a3fc4",
   "metadata": {},
   "outputs": [],
   "source": []
  },
  {
   "cell_type": "code",
   "execution_count": null,
   "id": "0c845057",
   "metadata": {},
   "outputs": [],
   "source": []
  },
  {
   "cell_type": "code",
   "execution_count": null,
   "id": "5a4d3852",
   "metadata": {},
   "outputs": [],
   "source": []
  },
  {
   "cell_type": "code",
   "execution_count": null,
   "id": "925f7529",
   "metadata": {},
   "outputs": [],
   "source": []
  },
  {
   "cell_type": "code",
   "execution_count": null,
   "id": "e6a65159",
   "metadata": {},
   "outputs": [],
   "source": []
  },
  {
   "cell_type": "code",
   "execution_count": null,
   "id": "5143285a",
   "metadata": {},
   "outputs": [],
   "source": []
  },
  {
   "cell_type": "code",
   "execution_count": null,
   "id": "c32c3358",
   "metadata": {},
   "outputs": [],
   "source": []
  }
 ],
 "metadata": {
  "kernelspec": {
   "display_name": "NLP",
   "language": "python",
   "name": "nlp"
  },
  "language_info": {
   "codemirror_mode": {
    "name": "ipython",
    "version": 3
   },
   "file_extension": ".py",
   "mimetype": "text/x-python",
   "name": "python",
   "nbconvert_exporter": "python",
   "pygments_lexer": "ipython3",
   "version": "3.8.10"
  }
 },
 "nbformat": 4,
 "nbformat_minor": 5
}
